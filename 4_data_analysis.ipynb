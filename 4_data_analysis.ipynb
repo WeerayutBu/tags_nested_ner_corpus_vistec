{
 "cells": [
  {
   "cell_type": "code",
   "execution_count": 1,
   "metadata": {},
   "outputs": [],
   "source": [
    "import glob\n",
    "import pandas as pd\n",
    "import json\n",
    "import numpy as np"
   ]
  },
  {
   "cell_type": "raw",
   "metadata": {},
   "source": [
    "* Sentences             : 2000\n",
    "* Tokens                : 652426\n",
    "* Entity types          : 104\n",
    "* Mentions              : 85519\n",
    "* Mentions              : Mention level1  = 42264\n",
    "                        : Mention level2  = 37864\n",
    "                        : Mention level3  = 4768\n",
    "                        : Mention level4  = 545\n",
    "                        : Mention level5  = 78\n",
    "                        : Mention level6  = 16\n",
    "                        : Mention level7  = 3\n",
    "                        : Mention level8  = 1\n",
    "                        : Mention level9  = 0\n",
    "                        : Mention level10 = 0\n",
    "                        : All mention entity level : 85539\n",
    "* Maximum depth         : 8"
   ]
  },
  {
   "cell_type": "code",
   "execution_count": 2,
   "metadata": {},
   "outputs": [],
   "source": [
    "def check_start_en(en):\n",
    "    en = en.split('-')[0]\n",
    "\n",
    "    # Inside tag\n",
    "    if(en == 'O' or en in ['I', 'E']):\n",
    "        return 0\n",
    "    \n",
    "    # Start tag\n",
    "    elif( en.split('-')[0] in ['B', 'S'] ):\n",
    "        return 1\n",
    "    \n",
    "    # entity doesn't match\n",
    "    else:\n",
    "        assert False, \"Entity doesn't match\""
   ]
  },
  {
   "cell_type": "markdown",
   "metadata": {},
   "source": [
    "## Set path to download the data"
   ]
  },
  {
   "cell_type": "code",
   "execution_count": 3,
   "metadata": {},
   "outputs": [
    {
     "name": "stdout",
     "output_type": "stream",
     "text": [
      "/home/module/data/vistec_corpus/nested_ner/subtags/dataLot1_nested.data\n",
      "/home/module/data/vistec_corpus/nested_ner/subtags/datalot2_nested.data\n"
     ]
    },
    {
     "data": {
      "text/plain": [
       "[None, None]"
      ]
     },
     "execution_count": 3,
     "metadata": {},
     "output_type": "execute_result"
    }
   ],
   "source": [
    "max_levels   = 8\n",
    "# path_load    = '/home/module/data/vistec_corpus/nested_ner/maintags/'\n",
    "path_load    = '/home/module/data/vistec_corpus/nested_ner/subtags/'\n",
    "filenames     = [f for f in glob.glob(path_load+'/*.data', recursive=True)]\n",
    "\n",
    "# List of files name\n",
    "[print(f) for f in filenames]"
   ]
  },
  {
   "cell_type": "markdown",
   "metadata": {},
   "source": [
    "## Load data and extract entities."
   ]
  },
  {
   "cell_type": "code",
   "execution_count": 4,
   "metadata": {},
   "outputs": [],
   "source": [
    "sents       = []\n",
    "tokens      = []\n",
    "check_begin = []\n",
    "\n",
    "for fn in filenames:\n",
    "    ## Load data.\n",
    "    data = open(fn, 'r')\n",
    "    temp_token = []\n",
    "    for idx, token in enumerate(data):\n",
    "        ttoken = token.strip().split('|')\n",
    "        ltoken = len(ttoken)\n",
    "        if( ltoken == 1):  \n",
    "            # End of sentences\n",
    "            sents.append(temp_token)\n",
    "            temp_token = []\n",
    "        \n",
    "        # Max entity\n",
    "        elif( ltoken == max_levels+1): \n",
    "            temp_token.append(ttoken)\n",
    "            tokens.append(ttoken)\n",
    "            \n",
    "            # Check start mentions\n",
    "            check_begin.append([ check_start_en(m) for m in ttoken[1:]])\n",
    "        else: assert False, 'Error!!! Entity level miss match'"
   ]
  },
  {
   "cell_type": "markdown",
   "metadata": {},
   "source": [
    "## Check all sentences and tokens"
   ]
  },
  {
   "cell_type": "code",
   "execution_count": 5,
   "metadata": {},
   "outputs": [
    {
     "name": "stdout",
     "output_type": "stream",
     "text": [
      "Sentences :  1190\n",
      "Tokens    :  352554\n"
     ]
    }
   ],
   "source": [
    "## Check all sentences and tokens\n",
    "sents = np.array(sents)\n",
    "print('Sentences : ', sents.shape[0])\n",
    "print('Tokens    : ', len(tokens))"
   ]
  },
  {
   "cell_type": "markdown",
   "metadata": {},
   "source": [
    "### Check all tokens in sentences"
   ]
  },
  {
   "cell_type": "code",
   "execution_count": 6,
   "metadata": {},
   "outputs": [],
   "source": [
    "columns = ['l'+str(x+1) for x in range(max_levels)]\n",
    "columns.insert(0,'tokens')"
   ]
  },
  {
   "cell_type": "code",
   "execution_count": 7,
   "metadata": {},
   "outputs": [
    {
     "name": "stdout",
     "output_type": "stream",
     "text": [
      "Tokens        :  352554\n",
      "Show details  :\n"
     ]
    },
    {
     "data": {
      "text/html": [
       "<div>\n",
       "<style scoped>\n",
       "    .dataframe tbody tr th:only-of-type {\n",
       "        vertical-align: middle;\n",
       "    }\n",
       "\n",
       "    .dataframe tbody tr th {\n",
       "        vertical-align: top;\n",
       "    }\n",
       "\n",
       "    .dataframe thead th {\n",
       "        text-align: right;\n",
       "    }\n",
       "</style>\n",
       "<table border=\"1\" class=\"dataframe\">\n",
       "  <thead>\n",
       "    <tr style=\"text-align: right;\">\n",
       "      <th></th>\n",
       "      <th>tokens</th>\n",
       "      <th>l1</th>\n",
       "      <th>l2</th>\n",
       "      <th>l3</th>\n",
       "      <th>l4</th>\n",
       "      <th>l5</th>\n",
       "      <th>l6</th>\n",
       "      <th>l7</th>\n",
       "      <th>l8</th>\n",
       "    </tr>\n",
       "  </thead>\n",
       "  <tbody>\n",
       "    <tr>\n",
       "      <th>count</th>\n",
       "      <td>352554</td>\n",
       "      <td>352554</td>\n",
       "      <td>352554</td>\n",
       "      <td>352554</td>\n",
       "      <td>352554</td>\n",
       "      <td>352554</td>\n",
       "      <td>352554</td>\n",
       "      <td>352554</td>\n",
       "      <td>352554</td>\n",
       "    </tr>\n",
       "    <tr>\n",
       "      <th>unique</th>\n",
       "      <td>17021</td>\n",
       "      <td>376</td>\n",
       "      <td>313</td>\n",
       "      <td>200</td>\n",
       "      <td>75</td>\n",
       "      <td>18</td>\n",
       "      <td>6</td>\n",
       "      <td>3</td>\n",
       "      <td>2</td>\n",
       "    </tr>\n",
       "    <tr>\n",
       "      <th>top</th>\n",
       "      <td></td>\n",
       "      <td>O</td>\n",
       "      <td>O</td>\n",
       "      <td>O</td>\n",
       "      <td>O</td>\n",
       "      <td>O</td>\n",
       "      <td>O</td>\n",
       "      <td>O</td>\n",
       "      <td>O</td>\n",
       "    </tr>\n",
       "    <tr>\n",
       "      <th>freq</th>\n",
       "      <td>60230</td>\n",
       "      <td>291841</td>\n",
       "      <td>326366</td>\n",
       "      <td>349675</td>\n",
       "      <td>352265</td>\n",
       "      <td>352517</td>\n",
       "      <td>352543</td>\n",
       "      <td>352552</td>\n",
       "      <td>352553</td>\n",
       "    </tr>\n",
       "  </tbody>\n",
       "</table>\n",
       "</div>"
      ],
      "text/plain": [
       "        tokens      l1      l2      l3      l4      l5      l6      l7      l8\n",
       "count   352554  352554  352554  352554  352554  352554  352554  352554  352554\n",
       "unique   17021     376     313     200      75      18       6       3       2\n",
       "top                  O       O       O       O       O       O       O       O\n",
       "freq     60230  291841  326366  349675  352265  352517  352543  352552  352553"
      ]
     },
     "execution_count": 7,
     "metadata": {},
     "output_type": "execute_result"
    }
   ],
   "source": [
    "## Check all tokens in sentences\n",
    "df_tokens = pd.DataFrame(tokens, columns=columns)\n",
    "print('Tokens        : ', df_tokens.shape[0])\n",
    "print('Show details  :')\n",
    "df_tokens.describe()"
   ]
  },
  {
   "cell_type": "markdown",
   "metadata": {},
   "source": [
    "## Counting mentions each level."
   ]
  },
  {
   "cell_type": "code",
   "execution_count": 8,
   "metadata": {},
   "outputs": [
    {
     "name": "stdout",
     "output_type": "stream",
     "text": [
      "Counting mentions each level\n",
      "Mention level1 = 21851\n",
      "Mention level2 = 18505\n",
      "Mention level3 = 2117\n",
      "Mention level4 = 241\n",
      "Mention level5 = 31\n",
      "Mention level6 = 8\n",
      "Mention level7 = 2\n",
      "Mention level8 = 1\n",
      "All mention entity level : 42756\n"
     ]
    }
   ],
   "source": [
    "## Counting mentions each level.\n",
    "check_begin = np.array(check_begin)\n",
    "mentions = []\n",
    "print('Counting mentions each level')\n",
    "\n",
    "## Count only B- and S-\n",
    "for lx in range(len(check_begin[0])):\n",
    "    try:\n",
    "        temp_mt = np.unique(check_begin[:,lx], return_counts=True)\n",
    "        assert temp_mt[0][1] == 1 , \"Counting error\"\n",
    "        temp_mt = temp_mt[1][1]\n",
    "        mentions.append(temp_mt)\n",
    "        \n",
    "    except:\n",
    "        temp_mt = 0\n",
    "        \n",
    "    print(\"Mention level{} = {}\".format(lx+1, temp_mt))\n",
    "\n",
    "print('All mention entity level :', sum(mentions))"
   ]
  },
  {
   "cell_type": "markdown",
   "metadata": {},
   "source": [
    "## Counting the frequency of words."
   ]
  },
  {
   "cell_type": "code",
   "execution_count": 9,
   "metadata": {},
   "outputs": [
    {
     "name": "stdout",
     "output_type": "stream",
     "text": [
      "Counting the frequency of : l5\n",
      "Words                \tFrequency\n",
      "S-country            \t6\n",
      "S-date               \t5\n",
      "S-month              \t5\n",
      "S-role               \t4\n",
      "S-cardinal           \t3\n",
      "B-goverment          \t2\n",
      "E-goverment          \t2\n",
      "I-goverment          \t1\n",
      "B-role               \t1\n",
      "S-year               \t1\n",
      "S-title              \t1\n",
      "B-district           \t1\n",
      "E-sub_district       \t1\n",
      "B-sub_district       \t1\n",
      "E-district           \t1\n",
      "E-role               \t1\n",
      "S-mult               \t1\n"
     ]
    }
   ],
   "source": [
    "# Counting the frequency of words.\n",
    "check_entity = 5   # 0:tokens, 1-5: entities level \n",
    "top_freq     = 50\n",
    "check_fre    = []\n",
    "\n",
    "for colum_name in df_tokens.columns:\n",
    "    check_fre.append(df_tokens[colum_name].value_counts()[1:top_freq].items())\n",
    "\n",
    "Format       = '{:<20} \\t{:<1}'\n",
    "print('Counting the frequency of :',df_tokens.columns[check_entity])\n",
    "print(Format.format('Words', 'Frequency'))\n",
    "[print(Format.format(freq[0], freq[1])) for freq in check_fre[check_entity]]\n",
    "pass"
   ]
  },
  {
   "cell_type": "markdown",
   "metadata": {},
   "source": [
    "## Double check entities from tokens and sentences by level"
   ]
  },
  {
   "cell_type": "code",
   "execution_count": 10,
   "metadata": {},
   "outputs": [
    {
     "name": "stdout",
     "output_type": "stream",
     "text": [
      "Check entities from the list of tokens\n",
      "Token n.  \n",
      "121289    1         ::นายก           \t|I-role         \t|E-role         \t|E-role         \t|E-role         \t|E-goverment    \t|E-goverment    \t|S-role         \t|S-role         \t|\n",
      "122146    1         ::ศิลปากร        \t|I-role         \t|I-role         \t|E-role         \t|E-goverment    \t|E-goverment    \t|E-goverment    \t|S-org:edu      \t|O              \t|\n",
      "All entities : 2\n",
      "\n",
      "\n",
      "Check entities from the list of sentences\n",
      "Token n.  Sent n.   \n",
      "121289    561       ::นายก           \t|I-role         \t|E-role         \t|E-role         \t|E-role         \t|E-goverment    \t|E-goverment    \t|S-role         \t|S-role         \t|\n",
      "122146    563       ::ศิลปากร        \t|I-role         \t|I-role         \t|E-role         \t|E-goverment    \t|E-goverment    \t|E-goverment    \t|S-org:edu      \t|O              \t|\n",
      "All entities : 2\n"
     ]
    }
   ],
   "source": [
    "level       = 7\n",
    "max_shows   = 10\n",
    "\n",
    "# Double 1 check entities from tokens\n",
    "check_tokens= tokens.copy()\n",
    "count_no = 0\n",
    "print('Check entities from the list of tokens')\n",
    "print('{:<10}'.format('Token n.'))\n",
    "for idx, ckl in enumerate(check_begin[:,level-1]):\n",
    "    if(ckl==1):\n",
    "        count_no+=1\n",
    "        if(max_shows>count_no):\n",
    "            print('{:<10}{:<10}::'.format(idx, ckl), end='')\n",
    "            [print('{:<15}\\t'.format(t), end='|') for t in check_tokens[idx]]\n",
    "            print()\n",
    "print('All entities :',count_no)\n",
    "\n",
    "# Double 2 check entities from sentence.\n",
    "print('\\n\\nCheck entities from the list of sentences')\n",
    "print('{:<10}{:<10}'.format('Token n.','Sent n.'))\n",
    "count_no    = 0\n",
    "accu_tokens = 0\n",
    "for no, st in enumerate(sents):\n",
    "    for idx, token in enumerate(st):\n",
    "        if(token[level] != 'O' and token[level].split('-')[0] in ['B', 'S']):\n",
    "            count_no += 1\n",
    "            if(max_shows>count_no): \n",
    "                print('{:<10}{:<10}::'.format(accu_tokens+idx, no), end='')\n",
    "                [print('{:<15}\\t'.format(t), end='|') for t in token]\n",
    "                print()\n",
    "    accu_tokens += idx+1\n",
    "print('All entities :',count_no)"
   ]
  },
  {
   "cell_type": "code",
   "execution_count": 11,
   "metadata": {},
   "outputs": [
    {
     "data": {
      "text/plain": [
       "['จะ', 'O', 'O', 'O', 'O', 'O', 'O', 'O', 'O']"
      ]
     },
     "execution_count": 11,
     "metadata": {},
     "output_type": "execute_result"
    }
   ],
   "source": [
    "check_tokens[19]"
   ]
  },
  {
   "cell_type": "code",
   "execution_count": 12,
   "metadata": {},
   "outputs": [
    {
     "name": "stdout",
     "output_type": "stream",
     "text": [
      "\n",
      "Sentence no. 0\n",
      "0    Sukishi         \t|S-restaurant    \t|O               \t|O               \t|O               \t|O               \t|O               \t|O               \t|O               \t|\n",
      "1                    \t|O               \t|O               \t|O               \t|O               \t|O               \t|O               \t|O               \t|O               \t|\n",
      "2    สาขา            \t|O               \t|O               \t|O               \t|O               \t|O               \t|O               \t|O               \t|O               \t|\n",
      "3                    \t|O               \t|O               \t|O               \t|O               \t|O               \t|O               \t|O               \t|O               \t|\n",
      "4    Mega            \t|B-facility:other \t|S-loc:others    \t|O               \t|O               \t|O               \t|O               \t|O               \t|O               \t|\n",
      "5                    \t|I-facility:other \t|O               \t|O               \t|O               \t|O               \t|O               \t|O               \t|O               \t|\n",
      "6    Bangna          \t|E-facility:other \t|S-district      \t|O               \t|O               \t|O               \t|O               \t|O               \t|O               \t|\n",
      "7                    \t|O               \t|O               \t|O               \t|O               \t|O               \t|O               \t|O               \t|O               \t|\n",
      "8    ตัว             \t|O               \t|O               \t|O               \t|O               \t|O               \t|O               \t|O               \t|O               \t|\n",
      "9    ร้าน            \t|O               \t|O               \t|O               \t|O               \t|O               \t|O               \t|O               \t|O               \t|\n",
      "10   จะ              \t|O               \t|O               \t|O               \t|O               \t|O               \t|O               \t|O               \t|O               \t|\n",
      "11   อยู่            \t|O               \t|O               \t|O               \t|O               \t|O               \t|O               \t|O               \t|O               \t|\n",
      "12   โซน             \t|O               \t|O               \t|O               \t|O               \t|O               \t|O               \t|O               \t|O               \t|\n",
      "13                   \t|O               \t|O               \t|O               \t|O               \t|O               \t|O               \t|O               \t|O               \t|\n",
      "14   food            \t|B-loc:others    \t|S-loc:others    \t|O               \t|O               \t|O               \t|O               \t|O               \t|O               \t|\n",
      "15                   \t|I-loc:others    \t|O               \t|O               \t|O               \t|O               \t|O               \t|O               \t|O               \t|\n",
      "16   walk            \t|E-loc:others    \t|O               \t|O               \t|O               \t|O               \t|O               \t|O               \t|O               \t|\n",
      "17                   \t|O               \t|O               \t|O               \t|O               \t|O               \t|O               \t|O               \t|O               \t|\n",
      "18   ค่ะ             \t|O               \t|O               \t|O               \t|O               \t|O               \t|O               \t|O               \t|O               \t|\n",
      "19   จะ              \t|O               \t|O               \t|O               \t|O               \t|O               \t|O               \t|O               \t|O               \t|\n",
      "20   อยู่            \t|O               \t|O               \t|O               \t|O               \t|O               \t|O               \t|O               \t|O               \t|\n",
      "21   ใกล้            \t|O               \t|O               \t|O               \t|O               \t|O               \t|O               \t|O               \t|O               \t|\n",
      "22   ๆ               \t|O               \t|O               \t|O               \t|O               \t|O               \t|O               \t|O               \t|O               \t|\n",
      "23   กับ             \t|O               \t|O               \t|O               \t|O               \t|O               \t|O               \t|O               \t|O               \t|\n",
      "24                   \t|O               \t|O               \t|O               \t|O               \t|O               \t|O               \t|O               \t|O               \t|\n",
      "25   star            \t|B-restaurant    \t|O               \t|O               \t|O               \t|O               \t|O               \t|O               \t|O               \t|\n",
      "26                   \t|I-restaurant    \t|O               \t|O               \t|O               \t|O               \t|O               \t|O               \t|O               \t|\n",
      "27   buck            \t|E-restaurant    \t|O               \t|O               \t|O               \t|O               \t|O               \t|O               \t|O               \t|\n",
      "28                   \t|O               \t|O               \t|O               \t|O               \t|O               \t|O               \t|O               \t|O               \t|\n",
      "29   เลย             \t|O               \t|O               \t|O               \t|O               \t|O               \t|O               \t|O               \t|O               \t|\n",
      "30                   \t|O               \t|O               \t|O               \t|O               \t|O               \t|O               \t|O               \t|O               \t|\n",
      "31   ครั้ง           \t|O               \t|O               \t|O               \t|O               \t|O               \t|O               \t|O               \t|O               \t|\n",
      "32   นี้             \t|O               \t|O               \t|O               \t|O               \t|O               \t|O               \t|O               \t|O               \t|\n",
      "33   มา              \t|O               \t|O               \t|O               \t|O               \t|O               \t|O               \t|O               \t|O               \t|\n",
      "34   ตรง             \t|O               \t|O               \t|O               \t|O               \t|O               \t|O               \t|O               \t|O               \t|\n",
      "35   กับ             \t|O               \t|O               \t|O               \t|O               \t|O               \t|O               \t|O               \t|O               \t|\n",
      "36   วัน             \t|O               \t|O               \t|O               \t|O               \t|O               \t|O               \t|O               \t|O               \t|\n",
      "37   หยุด            \t|O               \t|O               \t|O               \t|O               \t|O               \t|O               \t|O               \t|O               \t|\n",
      "38                   \t|O               \t|O               \t|O               \t|O               \t|O               \t|O               \t|O               \t|O               \t|\n",
      "39   อืัอ            \t|O               \t|O               \t|O               \t|O               \t|O               \t|O               \t|O               \t|O               \t|\n",
      "40   หือออ           \t|O               \t|O               \t|O               \t|O               \t|O               \t|O               \t|O               \t|O               \t|\n",
      "41   คน              \t|O               \t|O               \t|O               \t|O               \t|O               \t|O               \t|O               \t|O               \t|\n",
      "42   อย่าง           \t|O               \t|O               \t|O               \t|O               \t|O               \t|O               \t|O               \t|O               \t|\n",
      "43   แน่น            \t|O               \t|O               \t|O               \t|O               \t|O               \t|O               \t|O               \t|O               \t|\n",
      "44   เลยย            \t|O               \t|O               \t|O               \t|O               \t|O               \t|O               \t|O               \t|O               \t|\n",
      "45                   \t|O               \t|O               \t|O               \t|O               \t|O               \t|O               \t|O               \t|O               \t|\n",
      "46   ต้อง            \t|O               \t|O               \t|O               \t|O               \t|O               \t|O               \t|O               \t|O               \t|\n",
      "47   รอ              \t|O               \t|O               \t|O               \t|O               \t|O               \t|O               \t|O               \t|O               \t|\n",
      "48   คิว             \t|O               \t|O               \t|O               \t|O               \t|O               \t|O               \t|O               \t|O               \t|\n",
      "49   ค่ะ             \t|O               \t|O               \t|O               \t|O               \t|O               \t|O               \t|O               \t|O               \t|\n",
      "50                   \t|O               \t|O               \t|O               \t|O               \t|O               \t|O               \t|O               \t|O               \t|\n",
      "51   วัน             \t|O               \t|O               \t|O               \t|O               \t|O               \t|O               \t|O               \t|O               \t|\n",
      "52   นี้             \t|O               \t|O               \t|O               \t|O               \t|O               \t|O               \t|O               \t|O               \t|\n",
      "53   รอ              \t|O               \t|O               \t|O               \t|O               \t|O               \t|O               \t|O               \t|O               \t|\n",
      "54   3               \t|S-cardinal      \t|O               \t|O               \t|O               \t|O               \t|O               \t|O               \t|O               \t|\n",
      "55   คิว             \t|S-unit          \t|O               \t|O               \t|O               \t|O               \t|O               \t|O               \t|O               \t|\n",
      "56                   \t|O               \t|O               \t|O               \t|O               \t|O               \t|O               \t|O               \t|O               \t|\n",
      "57   ก็              \t|O               \t|O               \t|O               \t|O               \t|O               \t|O               \t|O               \t|O               \t|\n",
      "58   รอ              \t|O               \t|O               \t|O               \t|O               \t|O               \t|O               \t|O               \t|O               \t|\n",
      "59   ไม่             \t|O               \t|O               \t|O               \t|O               \t|O               \t|O               \t|O               \t|O               \t|\n",
      "60   นาน             \t|O               \t|O               \t|O               \t|O               \t|O               \t|O               \t|O               \t|O               \t|\n",
      "61   แปปเดียว        \t|O               \t|O               \t|O               \t|O               \t|O               \t|O               \t|O               \t|O               \t|\n",
      "62                   \t|O               \t|O               \t|O               \t|O               \t|O               \t|O               \t|O               \t|O               \t|\n",
      "63   ตัว             \t|O               \t|O               \t|O               \t|O               \t|O               \t|O               \t|O               \t|O               \t|\n",
      "64   ร้าน            \t|O               \t|O               \t|O               \t|O               \t|O               \t|O               \t|O               \t|O               \t|\n",
      "65   ที่             \t|O               \t|O               \t|O               \t|O               \t|O               \t|O               \t|O               \t|O               \t|\n",
      "66   สาขา            \t|O               \t|O               \t|O               \t|O               \t|O               \t|O               \t|O               \t|O               \t|\n",
      "67   นี้             \t|O               \t|O               \t|O               \t|O               \t|O               \t|O               \t|O               \t|O               \t|\n",
      "68   ถือ             \t|O               \t|O               \t|O               \t|O               \t|O               \t|O               \t|O               \t|O               \t|\n",
      "69   ว่า             \t|O               \t|O               \t|O               \t|O               \t|O               \t|O               \t|O               \t|O               \t|\n",
      "70   กว้าง           \t|O               \t|O               \t|O               \t|O               \t|O               \t|O               \t|O               \t|O               \t|\n",
      "71   มาก             \t|O               \t|O               \t|O               \t|O               \t|O               \t|O               \t|O               \t|O               \t|\n",
      "72   ๆ               \t|O               \t|O               \t|O               \t|O               \t|O               \t|O               \t|O               \t|O               \t|\n",
      "73   เลย             \t|O               \t|O               \t|O               \t|O               \t|O               \t|O               \t|O               \t|O               \t|\n",
      "74   ค่ะ             \t|O               \t|O               \t|O               \t|O               \t|O               \t|O               \t|O               \t|O               \t|\n",
      "75                   \t|O               \t|O               \t|O               \t|O               \t|O               \t|O               \t|O               \t|O               \t|\n",
      "76   จัด             \t|O               \t|O               \t|O               \t|O               \t|O               \t|O               \t|O               \t|O               \t|\n",
      "77   ร้าน            \t|O               \t|O               \t|O               \t|O               \t|O               \t|O               \t|O               \t|O               \t|\n",
      "78   ดู              \t|O               \t|O               \t|O               \t|O               \t|O               \t|O               \t|O               \t|O               \t|\n",
      "79   โปร่ง           \t|O               \t|O               \t|O               \t|O               \t|O               \t|O               \t|O               \t|O               \t|\n",
      "80   โล่ง            \t|O               \t|O               \t|O               \t|O               \t|O               \t|O               \t|O               \t|O               \t|\n",
      "81   สบาย            \t|O               \t|O               \t|O               \t|O               \t|O               \t|O               \t|O               \t|O               \t|\n",
      "82   ด้วย            \t|O               \t|O               \t|O               \t|O               \t|O               \t|O               \t|O               \t|O               \t|\n",
      "83                   \t|O               \t|O               \t|O               \t|O               \t|O               \t|O               \t|O               \t|O               \t|\n",
      "84   ช่วง            \t|O               \t|O               \t|O               \t|O               \t|O               \t|O               \t|O               \t|O               \t|\n",
      "85   นี้             \t|O               \t|O               \t|O               \t|O               \t|O               \t|O               \t|O               \t|O               \t|\n",
      "86   มี              \t|O               \t|O               \t|O               \t|O               \t|O               \t|O               \t|O               \t|O               \t|\n",
      "87   เฮ              \t|O               \t|O               \t|O               \t|O               \t|O               \t|O               \t|O               \t|O               \t|\n",
      "88                   \t|O               \t|O               \t|O               \t|O               \t|O               \t|O               \t|O               \t|O               \t|\n",
      "89                   \t|O               \t|O               \t|O               \t|O               \t|O               \t|O               \t|O               \t|O               \t|\n",
      "90   เพราะ           \t|O               \t|O               \t|O               \t|O               \t|O               \t|O               \t|O               \t|O               \t|\n",
      "91   เค้า            \t|O               \t|O               \t|O               \t|O               \t|O               \t|O               \t|O               \t|O               \t|\n",
      "92   ลด              \t|O               \t|O               \t|O               \t|O               \t|O               \t|O               \t|O               \t|O               \t|\n",
      "93   ราคา            \t|O               \t|O               \t|O               \t|O               \t|O               \t|O               \t|O               \t|O               \t|\n",
      "94   สำหรับ          \t|O               \t|O               \t|O               \t|O               \t|O               \t|O               \t|O               \t|O               \t|\n",
      "95   อาหาร           \t|O               \t|O               \t|O               \t|O               \t|O               \t|O               \t|O               \t|O               \t|\n",
      "96   หลายๆ           \t|O               \t|O               \t|O               \t|O               \t|O               \t|O               \t|O               \t|O               \t|\n",
      "97   ชุด             \t|O               \t|O               \t|O               \t|O               \t|O               \t|O               \t|O               \t|O               \t|\n",
      "98   ค่ะ             \t|O               \t|O               \t|O               \t|O               \t|O               \t|O               \t|O               \t|O               \t|\n",
      "99                   \t|O               \t|O               \t|O               \t|O               \t|O               \t|O               \t|O               \t|O               \t|\n",
      "100  ก็              \t|O               \t|O               \t|O               \t|O               \t|O               \t|O               \t|O               \t|O               \t|\n",
      "101  จัด             \t|O               \t|O               \t|O               \t|O               \t|O               \t|O               \t|O               \t|O               \t|\n",
      "102  มา              \t|O               \t|O               \t|O               \t|O               \t|O               \t|O               \t|O               \t|O               \t|\n",
      "103  1               \t|S-cardinal      \t|O               \t|O               \t|O               \t|O               \t|O               \t|O               \t|O               \t|\n",
      "104  ชุด             \t|S-unit          \t|O               \t|O               \t|O               \t|O               \t|O               \t|O               \t|O               \t|\n",
      "105                  \t|O               \t|O               \t|O               \t|O               \t|O               \t|O               \t|O               \t|O               \t|\n",
      "106  จำ              \t|O               \t|O               \t|O               \t|O               \t|O               \t|O               \t|O               \t|O               \t|\n",
      "107  ราคา            \t|O               \t|O               \t|O               \t|O               \t|O               \t|O               \t|O               \t|O               \t|\n",
      "108  ไม่             \t|O               \t|O               \t|O               \t|O               \t|O               \t|O               \t|O               \t|O               \t|\n",
      "109  ได้             \t|O               \t|O               \t|O               \t|O               \t|O               \t|O               \t|O               \t|O               \t|\n",
      "110  ไม่             \t|O               \t|O               \t|O               \t|O               \t|O               \t|O               \t|O               \t|O               \t|\n",
      "111  แน่ใจ           \t|O               \t|O               \t|O               \t|O               \t|O               \t|O               \t|O               \t|O               \t|\n",
      "112  ว่า             \t|O               \t|O               \t|O               \t|O               \t|O               \t|O               \t|O               \t|O               \t|\n",
      "113                  \t|O               \t|O               \t|O               \t|O               \t|O               \t|O               \t|O               \t|O               \t|\n",
      "114  799             \t|S-cardinal      \t|O               \t|O               \t|O               \t|O               \t|O               \t|O               \t|O               \t|\n",
      "115  .               \t|O               \t|O               \t|O               \t|O               \t|O               \t|O               \t|O               \t|O               \t|\n",
      "116                  \t|O               \t|O               \t|O               \t|O               \t|O               \t|O               \t|O               \t|O               \t|\n",
      "117  หรือ            \t|O               \t|O               \t|O               \t|O               \t|O               \t|O               \t|O               \t|O               \t|\n",
      "118  เปล่า           \t|O               \t|O               \t|O               \t|O               \t|O               \t|O               \t|O               \t|O               \t|\n",
      "119                  \t|O               \t|O               \t|O               \t|O               \t|O               \t|O               \t|O               \t|O               \t|\n",
      "120  อ้ะะะ           \t|O               \t|O               \t|O               \t|O               \t|O               \t|O               \t|O               \t|O               \t|\n",
      "121  หิว             \t|O               \t|O               \t|O               \t|O               \t|O               \t|O               \t|O               \t|O               \t|\n",
      "122  มาก             \t|O               \t|O               \t|O               \t|O               \t|O               \t|O               \t|O               \t|O               \t|\n",
      "123  ก็              \t|O               \t|O               \t|O               \t|O               \t|O               \t|O               \t|O               \t|O               \t|\n",
      "124  จัด             \t|O               \t|O               \t|O               \t|O               \t|O               \t|O               \t|O               \t|O               \t|\n",
      "125  ซะ              \t|O               \t|O               \t|O               \t|O               \t|O               \t|O               \t|O               \t|O               \t|\n",
      "126  เลยย            \t|O               \t|O               \t|O               \t|O               \t|O               \t|O               \t|O               \t|O               \t|\n",
      "127                  \t|O               \t|O               \t|O               \t|O               \t|O               \t|O               \t|O               \t|O               \t|\n",
      "128  เนื้อ           \t|O               \t|O               \t|O               \t|O               \t|O               \t|O               \t|O               \t|O               \t|\n",
      "129  นุ่ม            \t|O               \t|O               \t|O               \t|O               \t|O               \t|O               \t|O               \t|O               \t|\n",
      "130  มาก             \t|O               \t|O               \t|O               \t|O               \t|O               \t|O               \t|O               \t|O               \t|\n",
      "131  อร่อย           \t|O               \t|O               \t|O               \t|O               \t|O               \t|O               \t|O               \t|O               \t|\n",
      "132  ด้วย            \t|O               \t|O               \t|O               \t|O               \t|O               \t|O               \t|O               \t|O               \t|\n",
      "133  คือ             \t|O               \t|O               \t|O               \t|O               \t|O               \t|O               \t|O               \t|O               \t|\n",
      "134  ดี              \t|O               \t|O               \t|O               \t|O               \t|O               \t|O               \t|O               \t|O               \t|\n",
      "135  คือ             \t|O               \t|O               \t|O               \t|O               \t|O               \t|O               \t|O               \t|O               \t|\n",
      "136  ฟิน             \t|O               \t|O               \t|O               \t|O               \t|O               \t|O               \t|O               \t|O               \t|\n",
      "137  นนน             \t|O               \t|O               \t|O               \t|O               \t|O               \t|O               \t|O               \t|O               \t|\n",
      "138                  \t|O               \t|O               \t|O               \t|O               \t|O               \t|O               \t|O               \t|O               \t|\n",
      "139  ยิ่ง            \t|O               \t|O               \t|O               \t|O               \t|O               \t|O               \t|O               \t|O               \t|\n",
      "140  เป็น            \t|O               \t|O               \t|O               \t|O               \t|O               \t|O               \t|O               \t|O               \t|\n",
      "141  เบคอน           \t|S-food:ingredient \t|O               \t|O               \t|O               \t|O               \t|O               \t|O               \t|O               \t|\n",
      "142  ยิ่ง            \t|O               \t|O               \t|O               \t|O               \t|O               \t|O               \t|O               \t|O               \t|\n",
      "143  อร่อย           \t|O               \t|O               \t|O               \t|O               \t|O               \t|O               \t|O               \t|O               \t|\n",
      "144  เลย             \t|O               \t|O               \t|O               \t|O               \t|O               \t|O               \t|O               \t|O               \t|\n",
      "145  ค่ะ             \t|O               \t|O               \t|O               \t|O               \t|O               \t|O               \t|O               \t|O               \t|\n",
      "146                  \t|O               \t|O               \t|O               \t|O               \t|O               \t|O               \t|O               \t|O               \t|\n",
      "147  รสชาติ          \t|O               \t|O               \t|O               \t|O               \t|O               \t|O               \t|O               \t|O               \t|\n",
      "148  หมู             \t|O               \t|O               \t|O               \t|O               \t|O               \t|O               \t|O               \t|O               \t|\n",
      "149  และ             \t|O               \t|O               \t|O               \t|O               \t|O               \t|O               \t|O               \t|O               \t|\n",
      "150  ความ            \t|O               \t|O               \t|O               \t|O               \t|O               \t|O               \t|O               \t|O               \t|\n",
      "151  นุ่ม            \t|O               \t|O               \t|O               \t|O               \t|O               \t|O               \t|O               \t|O               \t|\n",
      "152  ยก              \t|O               \t|O               \t|O               \t|O               \t|O               \t|O               \t|O               \t|O               \t|\n",
      "153  ให้             \t|O               \t|O               \t|O               \t|O               \t|O               \t|O               \t|O               \t|O               \t|\n",
      "154  สุกี้           \t|B-restaurant    \t|S-food:ingredient \t|O               \t|O               \t|O               \t|O               \t|O               \t|O               \t|\n",
      "155  ชิ              \t|E-restaurant    \t|O               \t|O               \t|O               \t|O               \t|O               \t|O               \t|O               \t|\n",
      "156  เลย             \t|O               \t|O               \t|O               \t|O               \t|O               \t|O               \t|O               \t|O               \t|\n",
      "157                  \t|O               \t|O               \t|O               \t|O               \t|O               \t|O               \t|O               \t|O               \t|\n",
      "158  เครื่อง         \t|O               \t|O               \t|O               \t|O               \t|O               \t|O               \t|O               \t|O               \t|\n",
      "159  ดื่ม            \t|O               \t|O               \t|O               \t|O               \t|O               \t|O               \t|O               \t|O               \t|\n",
      "160                  \t|O               \t|O               \t|O               \t|O               \t|O               \t|O               \t|O               \t|O               \t|\n",
      "161  สั่ง            \t|O               \t|O               \t|O               \t|O               \t|O               \t|O               \t|O               \t|O               \t|\n",
      "162  ชา              \t|O               \t|O               \t|O               \t|O               \t|O               \t|O               \t|O               \t|O               \t|\n",
      "163  มะนาว           \t|O               \t|O               \t|O               \t|O               \t|O               \t|O               \t|O               \t|O               \t|\n",
      "164  และ             \t|O               \t|O               \t|O               \t|O               \t|O               \t|O               \t|O               \t|O               \t|\n",
      "165  โกโก้           \t|O               \t|O               \t|O               \t|O               \t|O               \t|O               \t|O               \t|O               \t|\n",
      "166  เฟรปเป้มา       \t|O               \t|O               \t|O               \t|O               \t|O               \t|O               \t|O               \t|O               \t|\n",
      "167                  \t|O               \t|O               \t|O               \t|O               \t|O               \t|O               \t|O               \t|O               \t|\n",
      "168  โกโก้           \t|O               \t|O               \t|O               \t|O               \t|O               \t|O               \t|O               \t|O               \t|\n",
      "169  รสชาติ          \t|O               \t|O               \t|O               \t|O               \t|O               \t|O               \t|O               \t|O               \t|\n",
      "170  ใช้             \t|O               \t|O               \t|O               \t|O               \t|O               \t|O               \t|O               \t|O               \t|\n",
      "171  ได้             \t|O               \t|O               \t|O               \t|O               \t|O               \t|O               \t|O               \t|O               \t|\n",
      "172  เลย             \t|O               \t|O               \t|O               \t|O               \t|O               \t|O               \t|O               \t|O               \t|\n",
      "173  ค่ะ             \t|O               \t|O               \t|O               \t|O               \t|O               \t|O               \t|O               \t|O               \t|\n",
      "174                  \t|O               \t|O               \t|O               \t|O               \t|O               \t|O               \t|O               \t|O               \t|\n",
      "175  แต่             \t|O               \t|O               \t|O               \t|O               \t|O               \t|O               \t|O               \t|O               \t|\n",
      "176  หวาน            \t|O               \t|O               \t|O               \t|O               \t|O               \t|O               \t|O               \t|O               \t|\n",
      "177  มาก             \t|O               \t|O               \t|O               \t|O               \t|O               \t|O               \t|O               \t|O               \t|\n",
      "178  ไป              \t|O               \t|O               \t|O               \t|O               \t|O               \t|O               \t|O               \t|O               \t|\n",
      "179  นิด             \t|O               \t|O               \t|O               \t|O               \t|O               \t|O               \t|O               \t|O               \t|\n",
      "180  นึง             \t|O               \t|O               \t|O               \t|O               \t|O               \t|O               \t|O               \t|O               \t|\n",
      "181                  \t|O               \t|O               \t|O               \t|O               \t|O               \t|O               \t|O               \t|O               \t|\n",
      "182  นึก             \t|O               \t|O               \t|O               \t|O               \t|O               \t|O               \t|O               \t|O               \t|\n",
      "183  ถึง             \t|O               \t|O               \t|O               \t|O               \t|O               \t|O               \t|O               \t|O               \t|\n",
      "184  ปิ้ง            \t|O               \t|O               \t|O               \t|O               \t|O               \t|O               \t|O               \t|O               \t|\n",
      "185  ย่าง            \t|O               \t|O               \t|O               \t|O               \t|O               \t|O               \t|O               \t|O               \t|\n",
      "186  นึก             \t|O               \t|O               \t|O               \t|O               \t|O               \t|O               \t|O               \t|O               \t|\n",
      "187  ถึง             \t|O               \t|O               \t|O               \t|O               \t|O               \t|O               \t|O               \t|O               \t|\n",
      "188                  \t|O               \t|O               \t|O               \t|O               \t|O               \t|O               \t|O               \t|O               \t|\n",
      "189  Sukishi         \t|S-restaurant    \t|O               \t|O               \t|O               \t|O               \t|O               \t|O               \t|O               \t|\n",
      "190                  \t|O               \t|O               \t|O               \t|O               \t|O               \t|O               \t|O               \t|O               \t|\n",
      "191  เลย             \t|O               \t|O               \t|O               \t|O               \t|O               \t|O               \t|O               \t|O               \t|\n",
      "192  ค่ะ             \t|O               \t|O               \t|O               \t|O               \t|O               \t|O               \t|O               \t|O               \t|\n",
      "193  ยกใจ            \t|O               \t|O               \t|O               \t|O               \t|O               \t|O               \t|O               \t|O               \t|\n",
      "194  ให้             \t|O               \t|O               \t|O               \t|O               \t|O               \t|O               \t|O               \t|O               \t|\n",
      "195  เลย             \t|O               \t|O               \t|O               \t|O               \t|O               \t|O               \t|O               \t|O               \t|\n"
     ]
    }
   ],
   "source": [
    "# Show nested entities by sentence number.\n",
    "idx_sent_no = 0# lot1=800, lot2=600, lot3=600\n",
    "\n",
    "temp_text = \"\\nSentence no.{}\\n\".format(idx_sent_no)\n",
    "print(\"\\nSentence no.\",idx_sent_no)\n",
    "\n",
    "for idx, token in enumerate(sents[idx_sent_no]):\n",
    "    temp_text  = \"{:<5}\".format(idx)\n",
    "    temp_text += ''.join(['{:<15} \\t|'.format(t) for t in token])\n",
    "    print(temp_text)"
   ]
  },
  {
   "cell_type": "markdown",
   "metadata": {},
   "source": [
    "## Show nested entities by sentence number."
   ]
  },
  {
   "cell_type": "code",
   "execution_count": 13,
   "metadata": {},
   "outputs": [
    {
     "name": "stdout",
     "output_type": "stream",
     "text": [
      "17, 19, 22, 29, 35, 64, 77, 97, 115, 131, 144, 151, 185, 189, 221, 246, 252, 270, 338, 342, 367, 379, 405, 409, 425, 434, 438, 496, 508, 525, 553, 563, 591, 594, 611, 664, 711, 724, 786, 796, 813, 818, 864, 881, 884, 926, 941, 943, 956, 959, 1001, 1019, 1022, 1035, 1063, 1071, 1072, 1087, 1112, 1124, 1128, 1156, 1178, 1234, 1246, 1249, 1273, 1281, 1299, 1307, 1310, 1342, 1375, 1413, 1415, 1433, 1454, 1463, 1501, 1582, 1653, 1655, 1661, 1677, 1684, 1694, 1697, 1706, 1711, 1735, 1748, 1767, 1781, 1811, 1813, 1856, 1892, 1926, 1932, 1949\n",
      "\n",
      " [17, 19, 22, 29, 35, 64, 77, 97, 115, 131, 144, 151, 185, 189, 221, 246, 252, 270, 338, 342, 367, 379, 405, 409, 425, 434, 438, 496, 508, 525, 553, 563, 591, 594, 611, 664, 711, 724, 786, 796, 813, 818, 864, 881, 884, 926, 941, 943, 956, 959, 1001, 1019, 1022, 1035, 1063, 1071, 1072, 1087, 1112, 1124, 1128, 1156, 1178, 1234, 1246, 1249, 1273, 1281, 1299, 1307, 1310, 1342, 1375, 1413, 1415, 1433, 1454, 1463, 1501, 1582, 1653, 1655, 1661, 1677, 1684, 1694, 1697, 1706, 1711, 1735, 1748, 1767, 1781, 1811, 1813, 1856, 1892, 1926, 1932, 1949]\n"
     ]
    }
   ],
   "source": [
    "uarray = sorted(np.random.choice(np.arange(0, 1956), replace=False, size=(1, 100))[0])\n",
    "print(', '.join([str(x) for x in sorted(uarray)]))\n",
    "print('\\n',uarray)"
   ]
  },
  {
   "cell_type": "markdown",
   "metadata": {},
   "source": [
    "## Randoms check sentences"
   ]
  },
  {
   "cell_type": "code",
   "execution_count": 14,
   "metadata": {},
   "outputs": [],
   "source": [
    "# randoms_check = open('test_data/randoms_check_100_sentences.txt', 'w')\n",
    "# randoms_check.writelines(', '.join([str(x) for x in sorted(uarray)]))\n",
    "\n",
    "# for sno in uarray:\n",
    "#     # Show nested entities by sentence number.\n",
    "#     idx_sent_no = sno# lot1=800, lot2=600, lot3=600\n",
    "# #     print(\"\\nSentence no.\",idx_sent_no)\n",
    "#     temp_text = \"\\nSentence no.{}\\n\".format(idx_sent_no)\n",
    "#     randoms_check.writelines(temp_text)\n",
    "#     for idx, token in enumerate(sents[idx_sent_no]):\n",
    "#         temp_text  = \"{:<5}\".format(idx)\n",
    "#         temp_text += ''.join(['{:<25} |'.format(t) for t in token])\n",
    "#         randoms_check.writelines(temp_text+'\\n')\n",
    "# #         print(temp_text)\n",
    "# randoms_check.close()"
   ]
  }
 ],
 "metadata": {
  "kernelspec": {
   "display_name": "Python [conda env:model] *",
   "language": "python",
   "name": "conda-env-model-py"
  },
  "language_info": {
   "codemirror_mode": {
    "name": "ipython",
    "version": 3
   },
   "file_extension": ".py",
   "mimetype": "text/x-python",
   "name": "python",
   "nbconvert_exporter": "python",
   "pygments_lexer": "ipython3",
   "version": "3.7.7"
  }
 },
 "nbformat": 4,
 "nbformat_minor": 4
}
